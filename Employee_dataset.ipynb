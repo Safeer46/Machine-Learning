{
  "nbformat": 4,
  "nbformat_minor": 0,
  "metadata": {
    "colab": {
      "provenance": []
    },
    "kernelspec": {
      "name": "python3",
      "display_name": "Python 3"
    },
    "language_info": {
      "name": "python"
    }
  },
  "cells": [
    {
      "cell_type": "markdown",
      "source": [
        "# **Machine Learning Assignment**\n",
        "\n",
        "**Professor : Mohammad Mahdavi\n",
        "Module : M606\n",
        "Student Name : Muhammad Safeer Raza\n",
        "Student Id : GH1024697**\n",
        "\n"
      ],
      "metadata": {
        "id": "sOnyln7pEv0z"
      }
    },
    {
      "cell_type": "markdown",
      "source": [
        "GitHub Link: https://github.com/Safeer46/Machine-Learning\n",
        "Dataset Link: https://www.kaggle.com/datasets/tawfikelmetwally/employee-dataset"
      ],
      "metadata": {
        "id": "37jdzcOrKTX2"
      }
    },
    {
      "cell_type": "markdown",
      "source": [
        "**The Purpose of this Project is to Evaluate Whether an employee will leave work or not , it is a classification problem , with several attributes determining the final solution.**"
      ],
      "metadata": {
        "id": "DjFHSg64FSg8"
      }
    },
    {
      "cell_type": "code",
      "execution_count": 30,
      "metadata": {
        "id": "OlbGWODDWidP"
      },
      "outputs": [],
      "source": [
        "import pandas as pd\n",
        "from google.colab import drive\n",
        "from sklearn.model_selection import train_test_split as TTS\n",
        "from sklearn.preprocessing import OneHotEncoder as OHE\n",
        "from sklearn.preprocessing import StandardScaler as SS\n",
        "from sklearn.tree import DecisionTreeClassifier\n",
        "from sklearn.model_selection import GridSearchCV\n",
        "from sklearn.svm import SVC\n",
        "from sklearn.ensemble import RandomForestClassifier as RFC\n",
        "from sklearn.metrics import confusion_matrix as CM\n",
        "from sklearn.metrics import precision_recall_fscore_support as prfs"
      ]
    },
    {
      "cell_type": "code",
      "source": [
        "epd = pd.read_csv('/content/Employee.csv')\n",
        "epd.head()\n"
      ],
      "metadata": {
        "colab": {
          "base_uri": "https://localhost:8080/",
          "height": 226
        },
        "id": "IUCVO0uNODn6",
        "outputId": "0c953552-fc3f-4536-8c43-319988f380e1"
      },
      "execution_count": 2,
      "outputs": [
        {
          "output_type": "execute_result",
          "data": {
            "text/plain": [
              "   Education  JoiningYear       City  PaymentTier  Age  Gender EverBenched  \\\n",
              "0  Bachelors         2017  Bangalore            3   34    Male          No   \n",
              "1  Bachelors         2013       Pune            1   28  Female          No   \n",
              "2  Bachelors         2014  New Delhi            3   38  Female          No   \n",
              "3    Masters         2016  Bangalore            3   27    Male          No   \n",
              "4    Masters         2017       Pune            3   24    Male         Yes   \n",
              "\n",
              "   ExperienceInCurrentDomain  LeaveOrNot  \n",
              "0                          0           0  \n",
              "1                          3           1  \n",
              "2                          2           0  \n",
              "3                          5           1  \n",
              "4                          2           1  "
            ],
            "text/html": [
              "\n",
              "  <div id=\"df-45bbef1a-68e0-4ffa-8088-5f2189c7e420\" class=\"colab-df-container\">\n",
              "    <div>\n",
              "<style scoped>\n",
              "    .dataframe tbody tr th:only-of-type {\n",
              "        vertical-align: middle;\n",
              "    }\n",
              "\n",
              "    .dataframe tbody tr th {\n",
              "        vertical-align: top;\n",
              "    }\n",
              "\n",
              "    .dataframe thead th {\n",
              "        text-align: right;\n",
              "    }\n",
              "</style>\n",
              "<table border=\"1\" class=\"dataframe\">\n",
              "  <thead>\n",
              "    <tr style=\"text-align: right;\">\n",
              "      <th></th>\n",
              "      <th>Education</th>\n",
              "      <th>JoiningYear</th>\n",
              "      <th>City</th>\n",
              "      <th>PaymentTier</th>\n",
              "      <th>Age</th>\n",
              "      <th>Gender</th>\n",
              "      <th>EverBenched</th>\n",
              "      <th>ExperienceInCurrentDomain</th>\n",
              "      <th>LeaveOrNot</th>\n",
              "    </tr>\n",
              "  </thead>\n",
              "  <tbody>\n",
              "    <tr>\n",
              "      <th>0</th>\n",
              "      <td>Bachelors</td>\n",
              "      <td>2017</td>\n",
              "      <td>Bangalore</td>\n",
              "      <td>3</td>\n",
              "      <td>34</td>\n",
              "      <td>Male</td>\n",
              "      <td>No</td>\n",
              "      <td>0</td>\n",
              "      <td>0</td>\n",
              "    </tr>\n",
              "    <tr>\n",
              "      <th>1</th>\n",
              "      <td>Bachelors</td>\n",
              "      <td>2013</td>\n",
              "      <td>Pune</td>\n",
              "      <td>1</td>\n",
              "      <td>28</td>\n",
              "      <td>Female</td>\n",
              "      <td>No</td>\n",
              "      <td>3</td>\n",
              "      <td>1</td>\n",
              "    </tr>\n",
              "    <tr>\n",
              "      <th>2</th>\n",
              "      <td>Bachelors</td>\n",
              "      <td>2014</td>\n",
              "      <td>New Delhi</td>\n",
              "      <td>3</td>\n",
              "      <td>38</td>\n",
              "      <td>Female</td>\n",
              "      <td>No</td>\n",
              "      <td>2</td>\n",
              "      <td>0</td>\n",
              "    </tr>\n",
              "    <tr>\n",
              "      <th>3</th>\n",
              "      <td>Masters</td>\n",
              "      <td>2016</td>\n",
              "      <td>Bangalore</td>\n",
              "      <td>3</td>\n",
              "      <td>27</td>\n",
              "      <td>Male</td>\n",
              "      <td>No</td>\n",
              "      <td>5</td>\n",
              "      <td>1</td>\n",
              "    </tr>\n",
              "    <tr>\n",
              "      <th>4</th>\n",
              "      <td>Masters</td>\n",
              "      <td>2017</td>\n",
              "      <td>Pune</td>\n",
              "      <td>3</td>\n",
              "      <td>24</td>\n",
              "      <td>Male</td>\n",
              "      <td>Yes</td>\n",
              "      <td>2</td>\n",
              "      <td>1</td>\n",
              "    </tr>\n",
              "  </tbody>\n",
              "</table>\n",
              "</div>\n",
              "    <div class=\"colab-df-buttons\">\n",
              "\n",
              "  <div class=\"colab-df-container\">\n",
              "    <button class=\"colab-df-convert\" onclick=\"convertToInteractive('df-45bbef1a-68e0-4ffa-8088-5f2189c7e420')\"\n",
              "            title=\"Convert this dataframe to an interactive table.\"\n",
              "            style=\"display:none;\">\n",
              "\n",
              "  <svg xmlns=\"http://www.w3.org/2000/svg\" height=\"24px\" viewBox=\"0 -960 960 960\">\n",
              "    <path d=\"M120-120v-720h720v720H120Zm60-500h600v-160H180v160Zm220 220h160v-160H400v160Zm0 220h160v-160H400v160ZM180-400h160v-160H180v160Zm440 0h160v-160H620v160ZM180-180h160v-160H180v160Zm440 0h160v-160H620v160Z\"/>\n",
              "  </svg>\n",
              "    </button>\n",
              "\n",
              "  <style>\n",
              "    .colab-df-container {\n",
              "      display:flex;\n",
              "      gap: 12px;\n",
              "    }\n",
              "\n",
              "    .colab-df-convert {\n",
              "      background-color: #E8F0FE;\n",
              "      border: none;\n",
              "      border-radius: 50%;\n",
              "      cursor: pointer;\n",
              "      display: none;\n",
              "      fill: #1967D2;\n",
              "      height: 32px;\n",
              "      padding: 0 0 0 0;\n",
              "      width: 32px;\n",
              "    }\n",
              "\n",
              "    .colab-df-convert:hover {\n",
              "      background-color: #E2EBFA;\n",
              "      box-shadow: 0px 1px 2px rgba(60, 64, 67, 0.3), 0px 1px 3px 1px rgba(60, 64, 67, 0.15);\n",
              "      fill: #174EA6;\n",
              "    }\n",
              "\n",
              "    .colab-df-buttons div {\n",
              "      margin-bottom: 4px;\n",
              "    }\n",
              "\n",
              "    [theme=dark] .colab-df-convert {\n",
              "      background-color: #3B4455;\n",
              "      fill: #D2E3FC;\n",
              "    }\n",
              "\n",
              "    [theme=dark] .colab-df-convert:hover {\n",
              "      background-color: #434B5C;\n",
              "      box-shadow: 0px 1px 3px 1px rgba(0, 0, 0, 0.15);\n",
              "      filter: drop-shadow(0px 1px 2px rgba(0, 0, 0, 0.3));\n",
              "      fill: #FFFFFF;\n",
              "    }\n",
              "  </style>\n",
              "\n",
              "    <script>\n",
              "      const buttonEl =\n",
              "        document.querySelector('#df-45bbef1a-68e0-4ffa-8088-5f2189c7e420 button.colab-df-convert');\n",
              "      buttonEl.style.display =\n",
              "        google.colab.kernel.accessAllowed ? 'block' : 'none';\n",
              "\n",
              "      async function convertToInteractive(key) {\n",
              "        const element = document.querySelector('#df-45bbef1a-68e0-4ffa-8088-5f2189c7e420');\n",
              "        const dataTable =\n",
              "          await google.colab.kernel.invokeFunction('convertToInteractive',\n",
              "                                                    [key], {});\n",
              "        if (!dataTable) return;\n",
              "\n",
              "        const docLinkHtml = 'Like what you see? Visit the ' +\n",
              "          '<a target=\"_blank\" href=https://colab.research.google.com/notebooks/data_table.ipynb>data table notebook</a>'\n",
              "          + ' to learn more about interactive tables.';\n",
              "        element.innerHTML = '';\n",
              "        dataTable['output_type'] = 'display_data';\n",
              "        await google.colab.output.renderOutput(dataTable, element);\n",
              "        const docLink = document.createElement('div');\n",
              "        docLink.innerHTML = docLinkHtml;\n",
              "        element.appendChild(docLink);\n",
              "      }\n",
              "    </script>\n",
              "  </div>\n",
              "\n",
              "\n",
              "<div id=\"df-805741be-825d-4e7b-aa01-5f94847114fa\">\n",
              "  <button class=\"colab-df-quickchart\" onclick=\"quickchart('df-805741be-825d-4e7b-aa01-5f94847114fa')\"\n",
              "            title=\"Suggest charts.\"\n",
              "            style=\"display:none;\">\n",
              "\n",
              "<svg xmlns=\"http://www.w3.org/2000/svg\" height=\"24px\"viewBox=\"0 0 24 24\"\n",
              "     width=\"24px\">\n",
              "    <g>\n",
              "        <path d=\"M19 3H5c-1.1 0-2 .9-2 2v14c0 1.1.9 2 2 2h14c1.1 0 2-.9 2-2V5c0-1.1-.9-2-2-2zM9 17H7v-7h2v7zm4 0h-2V7h2v10zm4 0h-2v-4h2v4z\"/>\n",
              "    </g>\n",
              "</svg>\n",
              "  </button>\n",
              "\n",
              "<style>\n",
              "  .colab-df-quickchart {\n",
              "      --bg-color: #E8F0FE;\n",
              "      --fill-color: #1967D2;\n",
              "      --hover-bg-color: #E2EBFA;\n",
              "      --hover-fill-color: #174EA6;\n",
              "      --disabled-fill-color: #AAA;\n",
              "      --disabled-bg-color: #DDD;\n",
              "  }\n",
              "\n",
              "  [theme=dark] .colab-df-quickchart {\n",
              "      --bg-color: #3B4455;\n",
              "      --fill-color: #D2E3FC;\n",
              "      --hover-bg-color: #434B5C;\n",
              "      --hover-fill-color: #FFFFFF;\n",
              "      --disabled-bg-color: #3B4455;\n",
              "      --disabled-fill-color: #666;\n",
              "  }\n",
              "\n",
              "  .colab-df-quickchart {\n",
              "    background-color: var(--bg-color);\n",
              "    border: none;\n",
              "    border-radius: 50%;\n",
              "    cursor: pointer;\n",
              "    display: none;\n",
              "    fill: var(--fill-color);\n",
              "    height: 32px;\n",
              "    padding: 0;\n",
              "    width: 32px;\n",
              "  }\n",
              "\n",
              "  .colab-df-quickchart:hover {\n",
              "    background-color: var(--hover-bg-color);\n",
              "    box-shadow: 0 1px 2px rgba(60, 64, 67, 0.3), 0 1px 3px 1px rgba(60, 64, 67, 0.15);\n",
              "    fill: var(--button-hover-fill-color);\n",
              "  }\n",
              "\n",
              "  .colab-df-quickchart-complete:disabled,\n",
              "  .colab-df-quickchart-complete:disabled:hover {\n",
              "    background-color: var(--disabled-bg-color);\n",
              "    fill: var(--disabled-fill-color);\n",
              "    box-shadow: none;\n",
              "  }\n",
              "\n",
              "  .colab-df-spinner {\n",
              "    border: 2px solid var(--fill-color);\n",
              "    border-color: transparent;\n",
              "    border-bottom-color: var(--fill-color);\n",
              "    animation:\n",
              "      spin 1s steps(1) infinite;\n",
              "  }\n",
              "\n",
              "  @keyframes spin {\n",
              "    0% {\n",
              "      border-color: transparent;\n",
              "      border-bottom-color: var(--fill-color);\n",
              "      border-left-color: var(--fill-color);\n",
              "    }\n",
              "    20% {\n",
              "      border-color: transparent;\n",
              "      border-left-color: var(--fill-color);\n",
              "      border-top-color: var(--fill-color);\n",
              "    }\n",
              "    30% {\n",
              "      border-color: transparent;\n",
              "      border-left-color: var(--fill-color);\n",
              "      border-top-color: var(--fill-color);\n",
              "      border-right-color: var(--fill-color);\n",
              "    }\n",
              "    40% {\n",
              "      border-color: transparent;\n",
              "      border-right-color: var(--fill-color);\n",
              "      border-top-color: var(--fill-color);\n",
              "    }\n",
              "    60% {\n",
              "      border-color: transparent;\n",
              "      border-right-color: var(--fill-color);\n",
              "    }\n",
              "    80% {\n",
              "      border-color: transparent;\n",
              "      border-right-color: var(--fill-color);\n",
              "      border-bottom-color: var(--fill-color);\n",
              "    }\n",
              "    90% {\n",
              "      border-color: transparent;\n",
              "      border-bottom-color: var(--fill-color);\n",
              "    }\n",
              "  }\n",
              "</style>\n",
              "\n",
              "  <script>\n",
              "    async function quickchart(key) {\n",
              "      const quickchartButtonEl =\n",
              "        document.querySelector('#' + key + ' button');\n",
              "      quickchartButtonEl.disabled = true;  // To prevent multiple clicks.\n",
              "      quickchartButtonEl.classList.add('colab-df-spinner');\n",
              "      try {\n",
              "        const charts = await google.colab.kernel.invokeFunction(\n",
              "            'suggestCharts', [key], {});\n",
              "      } catch (error) {\n",
              "        console.error('Error during call to suggestCharts:', error);\n",
              "      }\n",
              "      quickchartButtonEl.classList.remove('colab-df-spinner');\n",
              "      quickchartButtonEl.classList.add('colab-df-quickchart-complete');\n",
              "    }\n",
              "    (() => {\n",
              "      let quickchartButtonEl =\n",
              "        document.querySelector('#df-805741be-825d-4e7b-aa01-5f94847114fa button');\n",
              "      quickchartButtonEl.style.display =\n",
              "        google.colab.kernel.accessAllowed ? 'block' : 'none';\n",
              "    })();\n",
              "  </script>\n",
              "</div>\n",
              "    </div>\n",
              "  </div>\n"
            ]
          },
          "metadata": {},
          "execution_count": 2
        }
      ]
    },
    {
      "cell_type": "markdown",
      "source": [
        "# Data Exploration\n",
        "\n",
        "**Grouping the dataset into two categorires; Train Data and Test Data**\n",
        "\n"
      ],
      "metadata": {
        "id": "qhEpNZGGwcJc"
      }
    },
    {
      "cell_type": "code",
      "source": [
        "tn_data, tt_data = TTS (epd)\n",
        "print(\"total size\",epd.shape)\n",
        "\n",
        "print(\"trainingdata_size\",tn_data.shape)\n",
        "\n",
        "print(\"testingdata_size\",tt_data.shape)"
      ],
      "metadata": {
        "colab": {
          "base_uri": "https://localhost:8080/"
        },
        "id": "qHC0gPnWQUQW",
        "outputId": "363abf60-12bd-4f40-bb3e-6ed69cf5b10f"
      },
      "execution_count": 3,
      "outputs": [
        {
          "output_type": "stream",
          "name": "stdout",
          "text": [
            "total size (4653, 9)\n",
            "trainingdata_size (3489, 9)\n",
            "testingdata_size (1164, 9)\n"
          ]
        }
      ]
    },
    {
      "cell_type": "markdown",
      "source": [
        "**To check the data for explicit and Implicit Unique Values**"
      ],
      "metadata": {
        "id": "duqm2hllwriK"
      }
    },
    {
      "cell_type": "code",
      "source": [
        "tn_data[\"LeaveOrNot\"].value_counts()"
      ],
      "metadata": {
        "colab": {
          "base_uri": "https://localhost:8080/"
        },
        "id": "XS75VjiNUUQD",
        "outputId": "f13ba01b-a040-44cc-a980-e21f82d4ecfa"
      },
      "execution_count": 4,
      "outputs": [
        {
          "output_type": "execute_result",
          "data": {
            "text/plain": [
              "0    2298\n",
              "1    1191\n",
              "Name: LeaveOrNot, dtype: int64"
            ]
          },
          "metadata": {},
          "execution_count": 4
        }
      ]
    },
    {
      "cell_type": "code",
      "source": [
        "tn_data['Education'].unique()"
      ],
      "metadata": {
        "colab": {
          "base_uri": "https://localhost:8080/"
        },
        "id": "Lizpu4N7SYyZ",
        "outputId": "ca96ebc3-e7bd-45c8-d2e4-e7e1f1f08949"
      },
      "execution_count": 5,
      "outputs": [
        {
          "output_type": "execute_result",
          "data": {
            "text/plain": [
              "array(['Bachelors', 'Masters', 'PHD'], dtype=object)"
            ]
          },
          "metadata": {},
          "execution_count": 5
        }
      ]
    },
    {
      "cell_type": "code",
      "source": [
        "tn_data.isnull().sum()"
      ],
      "metadata": {
        "colab": {
          "base_uri": "https://localhost:8080/"
        },
        "id": "-DBeeXI1RzpO",
        "outputId": "44f045ec-51da-49af-df66-a89198be1200"
      },
      "execution_count": 6,
      "outputs": [
        {
          "output_type": "execute_result",
          "data": {
            "text/plain": [
              "Education                    0\n",
              "JoiningYear                  0\n",
              "City                         0\n",
              "PaymentTier                  0\n",
              "Age                          0\n",
              "Gender                       0\n",
              "EverBenched                  0\n",
              "ExperienceInCurrentDomain    0\n",
              "LeaveOrNot                   0\n",
              "dtype: int64"
            ]
          },
          "metadata": {},
          "execution_count": 6
        }
      ]
    },
    {
      "cell_type": "markdown",
      "source": [
        "**Reprocessing the Data**"
      ],
      "metadata": {
        "id": "1moVduAIz861"
      }
    },
    {
      "cell_type": "code",
      "source": [
        "a_tn = tn_data.drop([\"LeaveOrNot\"], axis=1)\n",
        "b_tn = tn_data[\"LeaveOrNot\"]\n",
        "a_tt = tt_data.drop([\"LeaveOrNot\"], axis=1)\n",
        "b_tt = tt_data[\"LeaveOrNot\"]\n",
        "\n",
        "print(\"A split train data:\",a_tn.shape)\n",
        "print(\"B split Test Data:\",a_tt.shape)"
      ],
      "metadata": {
        "colab": {
          "base_uri": "https://localhost:8080/"
        },
        "id": "aHgO0mx6JiYH",
        "outputId": "eb052324-c972-4b40-8b67-b7562b44ffcb"
      },
      "execution_count": 7,
      "outputs": [
        {
          "output_type": "stream",
          "name": "stdout",
          "text": [
            "A split train data: (3489, 8)\n",
            "B split Test Data: (1164, 8)\n"
          ]
        }
      ]
    },
    {
      "cell_type": "markdown",
      "source": [
        "**Feature Engineering**\n",
        "\n",
        "**The test and train dataset is encoded as the dataset has both categorical and numerical dataset**"
      ],
      "metadata": {
        "id": "CmDY0RiDSmu-"
      }
    },
    {
      "cell_type": "code",
      "source": [
        "encoder = OHE()\n",
        "encoder.fit(a_tn)\n",
        "a_tn = encoder.transform(a_tn)\n",
        "a_tt = encoder.transform(a_tt)\n",
        "\n",
        "print(\"x_tn size\", a_tn.shape)\n",
        "print(\"x_tn size\", a_tt.shape)\n"
      ],
      "metadata": {
        "colab": {
          "base_uri": "https://localhost:8080/"
        },
        "id": "5LOe8qxxUHpo",
        "outputId": "62bce2ca-f616-47eb-f6be-84cd5f536a25"
      },
      "execution_count": 8,
      "outputs": [
        {
          "output_type": "stream",
          "name": "stdout",
          "text": [
            "x_tn size (3489, 48)\n",
            "x_tn size (1164, 48)\n"
          ]
        }
      ]
    },
    {
      "cell_type": "markdown",
      "source": [
        "**The model will be scaled to normalize data skewness using standard scaler**"
      ],
      "metadata": {
        "id": "H-iuFtoVGiyR"
      }
    },
    {
      "cell_type": "code",
      "source": [
        "scaler = SS(with_mean=False)\n",
        "scaler.fit(a_tn)\n",
        "a_tn = scaler.transform(a_tn)\n",
        "a_tt = scaler.transform(a_tt)\n",
        "\n",
        "print(\"a_tn size:\", a_tn.shape)\n",
        "print(\"a_tt size:\", a_tt.shape)"
      ],
      "metadata": {
        "colab": {
          "base_uri": "https://localhost:8080/"
        },
        "id": "dt1obzawes-N",
        "outputId": "1b8b6f1a-3733-4b52-cdcc-e19f4da1ec4b"
      },
      "execution_count": 9,
      "outputs": [
        {
          "output_type": "stream",
          "name": "stdout",
          "text": [
            "a_tn size: (3489, 48)\n",
            "a_tt size: (1164, 48)\n"
          ]
        }
      ]
    },
    {
      "cell_type": "markdown",
      "source": [
        "# Model Testing\n"
      ],
      "metadata": {
        "id": "GMmqvi2hGyBv"
      }
    },
    {
      "cell_type": "markdown",
      "source": [
        "**Choosing the model & Tuning the hyperparameter**\n",
        "\n",
        "**Algorithm 01 - Decision Tree Classifier**"
      ],
      "metadata": {
        "id": "Jw1t-lNwCMAH"
      }
    },
    {
      "cell_type": "code",
      "source": [
        "DTC_grid = {\n",
        "    \"min_samples_leaf\": range(1, 10),\n",
        "    \"max_features\": [\"auto\", \"sqrt\", \"log2\"],\n",
        "}\n",
        "model_A = GridSearchCV(DecisionTreeClassifier(),\n",
        "                       DTC_grid, cv=5, scoring=\"accuracy\", n_jobs=-1\n",
        ")\n",
        "model_A.fit(a_tn, b_tn)\n",
        "print(\"While using the decision tree clasifier this is the foremost accuracy = {:.2f}\".format(model_A.best_score_))\n",
        "print(\"These are the finest hyperparameters found while using decsion tree classifier= {}\".format(model_A.best_params_))\n"
      ],
      "metadata": {
        "colab": {
          "base_uri": "https://localhost:8080/"
        },
        "id": "xi9bbR1AC7BP",
        "outputId": "5022810a-34da-479f-9bed-2505b8c7436b"
      },
      "execution_count": 20,
      "outputs": [
        {
          "output_type": "stream",
          "name": "stdout",
          "text": [
            "While using the decision tree clasifier this is the foremost accuracy = 0.82\n",
            "These are the finest hyperparameters found while using decsion tree classifier= {'max_features': 'sqrt', 'min_samples_leaf': 2}\n"
          ]
        }
      ]
    },
    {
      "cell_type": "markdown",
      "source": [
        "**Algorithm 02 - Support Vector Machine**"
      ],
      "metadata": {
        "id": "2BLR-vGuHBAW"
      }
    },
    {
      "cell_type": "code",
      "source": [
        "SVM_grid = {\n",
        "\n",
        "    'gamma':[0.01, 0.15],\n",
        "    'C' : [1, 3]\n",
        "}\n",
        "\n",
        "model_B = GridSearchCV(SVC(),SVM_grid,cv=5, scoring=\"accuracy\")\n",
        "\n",
        "model_B.fit(a_tn, b_tn)\n",
        "print(\"While using the SVM classifier this is the foremost accuracy = {:.2f}\".format(model_B.best_score_))\n",
        "print(\"These are the finest hyperparameters found while using decsion tree classifier= {}\".format(model_B.best_params_))"
      ],
      "metadata": {
        "colab": {
          "base_uri": "https://localhost:8080/"
        },
        "id": "C-S7Up6epbU4",
        "outputId": "07c77326-9ad2-4448-8bff-28edd27dced3"
      },
      "execution_count": 19,
      "outputs": [
        {
          "output_type": "stream",
          "name": "stdout",
          "text": [
            "While using the SVM classifier this is the foremost accuracy = 0.84\n",
            "These are the finest hyperparameters found while using decsion tree classifier= {'C': 3, 'gamma': 0.01}\n"
          ]
        }
      ]
    },
    {
      "cell_type": "markdown",
      "source": [
        "**Algorithm 03 - Random Forest Classifier**"
      ],
      "metadata": {
        "id": "hONbVsMMHHqJ"
      }
    },
    {
      "cell_type": "code",
      "source": [
        "rfc_grid = {\n",
        "    'criterion': ['entropy', 'gini'],\n",
        "    'n_estimators':[20, 40, 80, 150]\n",
        "}\n",
        "model_c = GridSearchCV(RFC(),rfc_grid,cv=5, scoring=\"accuracy\")\n",
        "\n",
        "model_c.fit(a_tn, b_tn)\n",
        "print(\"While using the SVM classifier this is the foremost accuracy = {:.2f}\".format(model_c.best_score_))\n",
        "print(\"These are the finest hyperparameters found while using decsion tree classifier= {}\".format(model_c.best_params_))"
      ],
      "metadata": {
        "colab": {
          "base_uri": "https://localhost:8080/"
        },
        "id": "0oms7LZs4Yur",
        "outputId": "2e04a74c-5616-4fb6-b86f-96137b4dfd4e"
      },
      "execution_count": 18,
      "outputs": [
        {
          "output_type": "stream",
          "name": "stdout",
          "text": [
            "While using the SVM classifier this is the foremost accuracy = 0.82\n",
            "These are the finest hyperparameters found while using decsion tree classifier= {'criterion': 'gini', 'n_estimators': 40}\n"
          ]
        }
      ]
    },
    {
      "cell_type": "markdown",
      "source": [
        "**Once the Algorithms are implemented with hyperparameters the model will be tested**"
      ],
      "metadata": {
        "id": "GB0ynFF95SXH"
      }
    },
    {
      "cell_type": "code",
      "source": [
        "final_prediction = model_B.predict(a_tt)\n",
        "accuracy = AC (b_tt, final_prediction)\n",
        "cm =  CM (b_tt, final_prediction)\n",
        "precision, recall, f1, support = prfs(b_tt, final_prediction)\n",
        "\n",
        "print(\"Accuracy=\", accuracy)\n",
        "print(\"Precision=\", precision)\n",
        "print(\"Recall =\", recall)\n",
        "print(\"F1-score =\", f1)\n",
        "print(\"Confusion Matrix:\\n\", cm)"
      ],
      "metadata": {
        "colab": {
          "base_uri": "https://localhost:8080/"
        },
        "id": "bnujIhA35XCl",
        "outputId": "523f6f31-4e51-4548-ec5d-44eb74187da7"
      },
      "execution_count": 35,
      "outputs": [
        {
          "output_type": "stream",
          "name": "stdout",
          "text": [
            "Accuracy= 0.8625429553264605\n",
            "Precision= [0.84958872 0.89776358]\n",
            "Recall = [0.95761589 0.68704156]\n",
            "F1-score = [0.9003736  0.77839335]\n",
            "Confusion Matrix:\n",
            " [[723  32]\n",
            " [128 281]]\n"
          ]
        }
      ]
    },
    {
      "cell_type": "markdown",
      "source": [
        "**Conclusion and Discussion**\n",
        "\n"
      ],
      "metadata": {
        "id": "BuQt_w54HiqT"
      }
    },
    {
      "cell_type": "markdown",
      "source": [
        "** Three models were used for the pipline with an accuracy of\n",
        "DT 82%\n",
        "RF 82%\n",
        "SVM 84%\n",
        "As per the results we can see that the best model was Supoport Vector Machine with an accuracy of 84% on the training data. The models performance on the test data is 86%.**"
      ],
      "metadata": {
        "id": "XJkvSas5Hqvm"
      }
    },
    {
      "cell_type": "code",
      "source": [
        "!jupyter nbconvert --to html Employee_dataset.ipynb"
      ],
      "metadata": {
        "colab": {
          "base_uri": "https://localhost:8080/"
        },
        "id": "B0FT77hJBTij",
        "outputId": "e343c699-04e2-46d2-d335-7d2dd5495428"
      },
      "execution_count": 40,
      "outputs": [
        {
          "output_type": "stream",
          "name": "stdout",
          "text": [
            "[NbConvertApp] Converting notebook Employee_dataset.ipynb to html\n",
            "[NbConvertApp] Writing 832440 bytes to Employee_dataset.html\n"
          ]
        }
      ]
    }
  ]
}